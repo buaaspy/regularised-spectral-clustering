{
 "cells": [
  {
   "cell_type": "code",
   "execution_count": 124,
   "metadata": {
    "collapsed": true
   },
   "outputs": [],
   "source": [
    "from sklearn.cluster import SpectralClustering\n",
    "import networkx as nx\n",
    "import numpy as np\n",
    "import scipy as sp\n",
    "import matplotlib\n",
    "import time\n",
    "import matplotlib.pyplot as plt\n",
    "from numpy import linalg as LA\n",
    "import os"
   ]
  },
  {
   "cell_type": "code",
   "execution_count": 51,
   "metadata": {
    "collapsed": true
   },
   "outputs": [],
   "source": [
    "# Load the data\n",
    "def read_graph(filepath):\n",
    "    graph = nx.read_edgelist(filepath).to_undirected()\n",
    "    graph.name = os.path.basename(filepath)\n",
    "    return max(nx.connected_component_subgraphs(graph), key=len)\n",
    "\n",
    "email_graph = read_graph(\"./dataset/email-Eu-core.txt\")"
   ]
  },
  {
   "cell_type": "code",
   "execution_count": 123,
   "metadata": {
    "collapsed": true
   },
   "outputs": [],
   "source": [
    "# Compare the eigenvectors of the vanilla and regularised graphs\n",
    "def get_eigen(S):\n",
    "    DS = np.diag(1. / np.sqrt(np.ravel((np.sum(S, 1)))))\n",
    "    L = np.identity(np.shape(S)[0]) - np.matmul(np.matmul(DS, S), DS)\n",
    "    val, vec = LA.eig(L)\n",
    "    \n",
    "    # Transform the egigenvalues and vectors of L into those of S(D^{-1})\n",
    "    return 1 - val, np.transpose(np.matmul(DS, np.transpose(vec)))\n",
    "\n",
    "S = nx.to_numpy_matrix(email_graph)\n",
    "\n",
    "# Tao is initialised with the average degree of the graph\n",
    "N = email_graph.number_of_nodes()\n",
    "tao = np.mean(np.ravel(np.sum(S, 1))) \n",
    "SR = S + tao / N\n",
    "\n",
    "val_van, vec_van = get_eigen(S)\n",
    "val_reg, vec_reg = get_eigen(SR)"
   ]
  },
  {
   "cell_type": "code",
   "execution_count": 112,
   "metadata": {
    "scrolled": true
   },
   "outputs": [
    {
     "data": {
      "image/png": "[encoded data removed]",
      "text/plain": [
       "<matplotlib.figure.Figure at 0x15110e5da0>"
      ]
     },
     "metadata": {},
     "output_type": "display_data"
    }
   ],
   "source": [
    "# Compare the eigenvectors of the laplacian of the two graphs\n",
    "def plot_array(eigenval1, eigenval2, num_bins=50):\n",
    "    plt.bar(np.arange(len(eigenval1)), eigenval1)\n",
    "    plt.bar(np.arange(len(eigenval2)), eigenval2)\n",
    "    plt.show()\n",
    "    \n",
    "plot_array(np.ravel(vec_van[:, 2]), np.ravel(vec_reg[:, 2]))\n",
    "# plot_array(np.ravel(vec_van[:, 3]), np.ravel(vec_reg[:, 3]))\n",
    "# plot_array(np.ravel(vec_van[:, 4]), np.ravel(vec_reg[:, 4]))"
   ]
  },
  {
   "cell_type": "code",
   "execution_count": 119,
   "metadata": {},
   "outputs": [
    {
     "name": "stdout",
     "output_type": "stream",
     "text": [
      "61\n",
      "188\n"
     ]
    }
   ],
   "source": [
    "# Compute the number of nodes in the smallest partition set.\n",
    "sc_van = SpectralClustering(2, affinity='precomputed', n_init=100).fit(S)\n",
    "sc_reg = SpectralClustering(2, affinity='precomputed', n_init=100).fit(SR)\n",
    "\n",
    "van_min_part_size = min(np.sum(sc_van.labels_), N - np.sum(sc_van.labels_))\n",
    "reg_min_part_size = min(np.sum(sc_reg.labels_), N - np.sum(sc_reg.labels_))\n",
    "print(van_min_part_size)\n",
    "print(reg_min_part_size)"
   ]
  },
  {
   "cell_type": "code",
   "execution_count": 140,
   "metadata": {},
   "outputs": [
    {
     "name": "stdout",
     "output_type": "stream",
     "text": [
      "0.6760303020477295+-0.02898318429677303\n",
      "0.642007851600647+-0.007468054271241199\n"
     ]
    }
   ],
   "source": [
    "# Bechmark the execution time for the computation of eigenvalues for the two matrices\n",
    "def benchmark(fct):   \n",
    "    start = time.time()\n",
    "    fct()\n",
    "    end = time.time()\n",
    "    return end-start\n",
    "\n",
    "van_times, reg_times = [], []\n",
    "runs = 10\n",
    "\n",
    "for run in range(runs):\n",
    "    van_times.append(benchmark(lambda: get_eigen(S)))\n",
    "    reg_times.append(benchmark(lambda: get_eigen(SR)))\n",
    "\n",
    "print(\"{}+-{}\".format(np.mean(van_times), np.std(van_times)))\n",
    "print(\"{}+-{}\".format(np.mean(reg_times), np.std(reg_times)))"
   ]
  },
  {
   "cell_type": "code",
   "execution_count": null,
   "metadata": {
    "collapsed": true
   },
   "outputs": [],
   "source": []
  }
 ],
 "metadata": {
  "kernelspec": {
   "display_name": "Python 3",
   "language": "python",
   "name": "python3"
  },
  "language_info": {
   "codemirror_mode": {
    "name": "ipython",
    "version": 3
   },
   "file_extension": ".py",
   "mimetype": "text/x-python",
   "name": "python",
   "nbconvert_exporter": "python",
   "pygments_lexer": "ipython3",
   "version": "3.6.3"
  }
 },
 "nbformat": 4,
 "nbformat_minor": 2
}
