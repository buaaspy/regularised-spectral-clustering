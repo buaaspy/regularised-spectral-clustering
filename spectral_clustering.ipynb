{
 "cells": [
  {
   "cell_type": "code",
   "execution_count": 1,
   "metadata": {
    "collapsed": true
   },
   "outputs": [],
   "source": [
    "from sklearn.cluster import SpectralClustering\n",
    "import networkx as nx\n",
    "import numpy as np\n",
    "import scipy as sp\n",
    "import matplotlib\n",
    "import time\n",
    "import matplotlib.pyplot as plt\n",
    "from numpy import linalg as LA\n",
    "import os"
   ]
  },
  {
   "cell_type": "code",
   "execution_count": 54,
   "metadata": {
    "collapsed": true
   },
   "outputs": [],
   "source": [
    "# Load the data\n",
    "np.random.seed(5)\n",
    "def read_graph(filepath):\n",
    "    # Use the largest connected component from the graph\n",
    "    graph = nx.read_edgelist(filepath, nodetype=int).to_undirected()\n",
    "    graph = max(nx.connected_component_subgraphs(graph), key=len)\n",
    "    \n",
    "    # Split the graph edges into train and test\n",
    "    random_edges = list(graph.edges())\n",
    "    np.random.shuffle(random_edges)\n",
    "    train_edges = random_edges[:graph.number_of_edges()//2]\n",
    "    test_edges = random_edges[graph.number_of_edges()//2:]\n",
    "    \n",
    "    # Create the training graph\n",
    "    train_graph = nx.Graph()\n",
    "    train_graph.add_edges_from(train_edges)\n",
    "    train_graph = max(nx.connected_component_subgraphs(train_graph), key=len)\n",
    "    \n",
    "    # Create the test graph\n",
    "    test_graph = nx.Graph()\n",
    "    test_graph.add_edges_from(test_edges) \n",
    "    \n",
    "    return train_graph, test_graph\n",
    "    \n",
    "# graph, graph_test = read_graph(\"./dataset/email-Eu-core.txt\")\n",
    "# graph, graph_test = read_graph(\"./dataset/0.edges\")\n",
    "graph, graph_test = read_graph(\"./dataset/1912.edges\")\n",
    "# graph, graph_test = read_graph(\"./dataset/gnutella08.txt\")"
   ]
  },
  {
   "cell_type": "code",
   "execution_count": 55,
   "metadata": {},
   "outputs": [],
   "source": [
    "# Compare the eigenvectors of the markov matrix of the vanilla and regularised graphs\n",
    "def get_eigen(A):\n",
    "    DS = np.diag(1. / np.sqrt(np.ravel((np.sum(A, 1)))))\n",
    "    L = np.identity(np.shape(A)[0]) - np.matmul(np.matmul(DS, A), DS)\n",
    "    val, vec = LA.eigh(L)\n",
    "    return 1 - val, np.matmul(DS, vec)\n",
    "\n",
    "sorted_nodes = list(graph.nodes())\n",
    "sorted_nodes.sort()\n",
    "S = nx.to_numpy_matrix(graph, nodelist=sorted_nodes)\n",
    "\n",
    "# Tao is initialised with the average degree of the graph\n",
    "N = graph.number_of_nodes()\n",
    "tao = np.mean(np.ravel(np.sum(S, 1))) \n",
    "SR = S + tao / N\n",
    "\n",
    "val_van, vec_van = get_eigen(S)\n",
    "val_reg, vec_reg = get_eigen(SR)"
   ]
  },
  {
   "cell_type": "code",
   "execution_count": null,
   "metadata": {},
   "outputs": [],
   "source": []
  },
  {
   "cell_type": "code",
   "execution_count": 58,
   "metadata": {
    "scrolled": true
   },
   "outputs": [
    {
     "data": {
      "image/png": "[encoded data removed]",
      "text/plain": [
       "<matplotlib.figure.Figure at 0x1a117cbb00>"
      ]
     },
     "metadata": {},
     "output_type": "display_data"
    },
    {
     "data": {
      "image/png": "[encoded data removed]",
      "text/plain": [
       "<matplotlib.figure.Figure at 0x1a238897b8>"
      ]
     },
     "metadata": {},
     "output_type": "display_data"
    }
   ],
   "source": [
    "# Compare the eigenvectors of the laplacian of the two graphs\n",
    "def plot_array(eigenval):\n",
    "    plt.bar(np.arange(len(eigenval)), eigenval)\n",
    "    plt.show()\n",
    "    \n",
    "plot_array(np.ravel(vec_van[2, :]))\n",
    "plot_array(np.ravel(vec_reg[2, :]))\n",
    "# plot_array(np.ravel(vec_van[:, 4]), np.ravel(vec_reg[:, 4]))"
   ]
  },
  {
   "cell_type": "code",
   "execution_count": 50,
   "metadata": {
    "collapsed": true
   },
   "outputs": [],
   "source": [
    "# Compute the number of nodes in the smallest partition set.\n",
    "sc_van = SpectralClustering(2, affinity='precomputed', n_init=1000).fit(S)\n",
    "sc_reg = SpectralClustering(2, affinity='precomputed', n_init=1000).fit(SR)\n",
    "\n",
    "def min_binary_part_label(labels):\n",
    "    return int(np.sum(labels) <= len(labels) - np.sum(labels))"
   ]
  },
  {
   "cell_type": "code",
   "execution_count": 51,
   "metadata": {},
   "outputs": [
    {
     "name": "stdout",
     "output_type": "stream",
     "text": [
      "56\n",
      "65\n"
     ]
    }
   ],
   "source": [
    "# Compute the size of the smallest partition\n",
    "van_min_part_size = min(np.sum(sc_van.labels_), N - np.sum(sc_van.labels_))\n",
    "reg_min_part_size = min(np.sum(sc_reg.labels_), N - np.sum(sc_reg.labels_))\n",
    "print(van_min_part_size)\n",
    "print(reg_min_part_size)"
   ]
  },
  {
   "cell_type": "code",
   "execution_count": 52,
   "metadata": {},
   "outputs": [
    {
     "name": "stdout",
     "output_type": "stream",
     "text": [
      "Vanilla conductance on train: 0.3760262725779967\n",
      "CoreCut conductance on train: 0.2772532188841202\n",
      "Vanilla conductance on test: 0.3879239040529363\n",
      "CoreCut conductance on test: 0.2791461412151067\n"
     ]
    }
   ],
   "source": [
    "# Compute the conductange of the smallest set\n",
    "from networkx.algorithms.cuts import conductance\n",
    "\n",
    "sorted_nodes = np.array(sorted_nodes)\n",
    "van_min_part_label = min_binary_part_label(sc_van.labels_)\n",
    "van_nodes_with_label = sorted_nodes[sc_van.labels_ == van_min_part_label]\n",
    "reg_min_part_label = min_binary_part_label(sc_reg.labels_)\n",
    "reg_nodes_with_label = sorted_nodes[sc_reg.labels_ == reg_min_part_label]\n",
    "\n",
    "print(\"Vanilla conductance on train: {}\".format(conductance(graph, van_nodes_with_label)))\n",
    "print(\"CoreCut conductance on train: {}\".format(conductance(graph, reg_nodes_with_label)))\n",
    "print(\"Vanilla conductance on test: {}\".format(conductance(graph_test, van_nodes_with_label)))\n",
    "print(\"CoreCut conductance on test: {}\".format(conductance(graph_test, reg_nodes_with_label)))"
   ]
  },
  {
   "cell_type": "code",
   "execution_count": 53,
   "metadata": {},
   "outputs": [
    {
     "name": "stdout",
     "output_type": "stream",
     "text": [
      "0.010360789299011231+-0.005325378685420514\n",
      "0.00927751064300537+-0.0029197706406539157\n"
     ]
    }
   ],
   "source": [
    "# Bechmark the execution time for the computation of eigenvalues for the two matrices\n",
    "def benchmark(fct):   \n",
    "    start = time.time()\n",
    "    fct()\n",
    "    end = time.time()\n",
    "    return end-start\n",
    "\n",
    "van_times, reg_times = [], []\n",
    "runs = 10\n",
    "\n",
    "for run in range(runs):\n",
    "    van_times.append(benchmark(lambda: get_eigen(S)))\n",
    "    reg_times.append(benchmark(lambda: get_eigen(SR)))\n",
    "\n",
    "print(\"{}+-{}\".format(np.mean(van_times), np.std(van_times)))\n",
    "print(\"{}+-{}\".format(np.mean(reg_times), np.std(reg_times)))"
   ]
  },
  {
   "cell_type": "code",
   "execution_count": null,
   "metadata": {
    "collapsed": true
   },
   "outputs": [],
   "source": []
  },
  {
   "cell_type": "code",
   "execution_count": null,
   "metadata": {
    "collapsed": true
   },
   "outputs": [],
   "source": []
  },
  {
   "cell_type": "code",
   "execution_count": null,
   "metadata": {
    "collapsed": true
   },
   "outputs": [],
   "source": []
  }
 ],
 "metadata": {
  "kernelspec": {
   "display_name": "Python 3",
   "language": "python",
   "name": "python3"
  },
  "language_info": {
   "codemirror_mode": {
    "name": "ipython",
    "version": 3
   },
   "file_extension": ".py",
   "mimetype": "text/x-python",
   "name": "python",
   "nbconvert_exporter": "python",
   "pygments_lexer": "ipython3",
   "version": "3.6.3"
  }
 },
 "nbformat": 4,
 "nbformat_minor": 2
}
